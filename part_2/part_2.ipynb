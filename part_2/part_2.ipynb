{
 "cells": [
  {
   "cell_type": "markdown",
   "metadata": {},
   "source": [
    "# 2 часть лабы / лаба 2:"
   ]
  },
  {
   "cell_type": "markdown",
   "metadata": {},
   "source": [
    ">Построить модель регрессии, которая бы оценивала (predict), какой будет успех (финансовый) у нового фильма  Х, который будет снимать режиссер с максимальным средним рейтингом его фильмов при участии главного актера, собирающего максимум лайков в соцсетях при условии, что жанр нового фильма будет научная фантастика (sci-fi). Влияет ли на результат факт того, что режиссер в этом жанре раньше не снимал (или снимал). Привести аргументацию выбранной модели и шагов реализации"
   ]
  }
 ],
 "metadata": {
  "kernelspec": {
   "display_name": "Python 3",
   "language": "python",
   "name": "python3"
  },
  "language_info": {
   "codemirror_mode": {
    "name": "ipython",
    "version": 3
   },
   "file_extension": ".py",
   "mimetype": "text/x-python",
   "name": "python",
   "nbconvert_exporter": "python",
   "pygments_lexer": "ipython3",
   "version": "3.8.5"
  }
 },
 "nbformat": 4,
 "nbformat_minor": 4
}
